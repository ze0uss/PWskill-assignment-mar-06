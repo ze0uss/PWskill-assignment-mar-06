{
  "nbformat": 4,
  "nbformat_minor": 0,
  "metadata": {
    "colab": {
      "provenance": []
    },
    "kernelspec": {
      "name": "python3",
      "display_name": "Python 3"
    },
    "language_info": {
      "name": "python"
    }
  },
  "cells": [
    {
      "cell_type": "markdown",
      "source": [
        "**Q1. What is Statistics?**"
      ],
      "metadata": {
        "id": "xhIb3I_0vtED"
      }
    },
    {
      "cell_type": "markdown",
      "source": [
        "Statistics is a branch of mathematics that deals with the collection, analysis, interpretation, presentation, and organization of data. It involves the use of quantitative methods to describe, summarize, and draw conclusions from data. Statistics is used in a wide variety of fields, including science, engineering, medicine, business, social sciences, and many others.\n",
        "\n",
        "There are two main branches of statistics: descriptive statistics and inferential statistics. Descriptive statistics involves the use of methods to summarize and describe data, such as measures of central tendency (mean, median, mode), measures of variability (range, variance, standard deviation), and graphical displays (histograms, scatterplots, etc.). Inferential statistics involves the use of methods to make inferences or predictions about a population based on a sample of data. This includes hypothesis testing, estimation, and regression analysis.\n",
        "\n",
        "Statistics plays a vital role in decision-making in many fields, as it allows us to analyze and interpret data to make informed decisions."
      ],
      "metadata": {
        "id": "8fIkR6AcvytP"
      }
    },
    {
      "cell_type": "markdown",
      "source": [
        "**Q2. Define the different types of statistics and give an example of when each type might be used.**"
      ],
      "metadata": {
        "id": "0oMbNz-Hv2lT"
      }
    },
    {
      "cell_type": "markdown",
      "source": [
        "There are two main types of statistics: descriptive statistics and inferential statistics.\n",
        "\n",
        "\n",
        "1. Descriptive Statistics: Descriptive statistics involves the use of methods to summarize and describe data. Some examples of descriptive statistics include:\n",
        "\n",
        "*   Measures of central tendency: Mean, median, mode.\n",
        "*   Measures of variability: Range, variance, standard deviation.\n",
        "*   Graphical displays: Histograms, scatterplots, boxplots.\n",
        "\n",
        "Descriptive statistics are useful when you want to summarize or describe a set of data. For example, if you want to describe the average income of a group of people, you could use the mean as a measure of central tendency. If you want to describe how spread out the incomes are, you could use the standard deviation as a measure of variability.\n",
        "\n",
        "\n",
        "2. Inferential Statistics: Inferential statistics involves the use of methods to make inferences or predictions about a population based on a sample of data. Some examples of inferential statistics include:\n",
        "\n",
        "*   Hypothesis testing: Used to determine if there is a significant difference between two groups or if a particular relationship exists between two variables\n",
        "*   Estimation: Used to estimate population parameters from sample data.\n",
        "*   Regression analysis: Used to model the relationship between two or more variables.\n",
        "\n",
        "Inferential statistics are useful when you want to make predictions or inferences about a larger population based on a smaller sample of data. For example, if you want to determine if a new drug is effective, you could use hypothesis testing to compare the outcomes of a treatment group and a control group. If you want to estimate the proportion of a population that supports a particular policy, you could use estimation based on a sample of survey data."
      ],
      "metadata": {
        "id": "L9gVVa_iv-tM"
      }
    },
    {
      "cell_type": "markdown",
      "source": [
        " **Q3. What are the different types of data and how do they differ from each other? Provide an example of\n",
        "each type of data.t**"
      ],
      "metadata": {
        "id": "swPWxcZMxd8u"
      }
    },
    {
      "cell_type": "markdown",
      "source": [
        "Here are four types of data that professionals work with:"
      ],
      "metadata": {
        "id": "qQnsvL3E0AkI"
      }
    },
    {
      "cell_type": "markdown",
      "source": [
        "1. Nominal data\n",
        "This type of qualitative data is descriptive. Accordingly, nominal data features information that doesn't have quantitative values. Unlike numbers, you can't compare this type of data or order them. Instead, it's common to group them into distinct categories. Here are some examples of nominal data:\n",
        "\n",
        "*  eye colour: brown, black or blue\n",
        "*  hair colour: black, brown, grey or blonde\n",
        "*  marital status: single, married, divorced or widowed\n",
        "\n",
        "2. Ordinal data\n",
        "Ordinal data is another type of qualitative data. Unlike nominal data, the values in this classification have a natural set order or scale. This means that some sets might have numerical values and that you can order them because they've got a relative position to one another. Here are some common examples of this type of data:\n",
        "\n",
        "*  surveys that ask you to rate an experience on a scale of one to 10\n",
        "*  letter grades for examination results, such as A, B, C and D\n",
        "*  economic status, such as high, middle or low\n",
        "*  education level, such as primary, secondary and tertiary\n",
        "\n",
        "3. Discrete data\n",
        "This is a type of quantitative data, which is information that has numerical values. Discrete data generally only consists of fixed values, such as integers and whole numbers. Decimals can occur in this category, for instance, if you're collecting data on the profits that a company earns. Impossible or unrealistic values, such as a shoe size of 5.72, don't constitute discrete data. Here are some examples of discrete data:\n",
        "\n",
        "\n",
        "*  the total number of students in a class\n",
        "*  the cost of a mobile phone\n",
        "*  the total number of employees in an organisation\n",
        "\n",
        "4. Continuous data\n",
        "Continuous data is the opposite of discrete data, featuring sequences that have the potential to go on infinitely. You can divide this type of data into smaller pieces, and fractional numbers are common in this category. Here are some examples of continuous data:\n",
        "\n",
        "*  the height of a person\n",
        "*  the weight of a ship\n",
        "*  the temperature of a room\n",
        "*  the speed of a vehicle\n",
        "*  the time taken to complete a task\n",
        "\n",
        "\n",
        "\n",
        "\n",
        "\n",
        "\n",
        "\n",
        "\n",
        "\n",
        "\n",
        "\n",
        "\n",
        "\n",
        "\n",
        "\n",
        "\n"
      ],
      "metadata": {
        "id": "MEK5Jy5O0CUd"
      }
    },
    {
      "cell_type": "markdown",
      "source": [
        "\n",
        "\n",
        "**Q4. Categorise the following datasets with respect to quantitative and qualitative data types:**\n",
        "\n",
        "\n",
        " **1. Grading in exam: A+, A, B+, B, C+, C, D, E**\n",
        "\n",
        " **2.  Colour of mangoes: yellow, green, orange, red**\n",
        "\n",
        " **3. Height data of a class: [178.9, 179, 179.5, 176, 177.2, 178.3, 175.8,...]**\n",
        "\n",
        " **4.  Number of mangoes exported by a farm: [500, 600, 478, 672, ...]**\n"
      ],
      "metadata": {
        "id": "RG3VbCJI1hUd"
      }
    },
    {
      "cell_type": "markdown",
      "source": [
        "1. Grading in exam: A+, A, B+, B, C+, C, D, E   ------>  Qualitative\n",
        "2.  Colour of mangoes: yellow, green, orange, red   ------>  Qualitative\n",
        "3. Height data of a class: [178.9, 179, 179.5, 176, 177.2, 178.3, 175.8,...] ------>  Quantitative\n",
        "4.  Number of mangoes exported by a farm: [500, 600, 478, 672, ...] ------>  Quantitative\n"
      ],
      "metadata": {
        "id": "HKLjGp8c1_IK"
      }
    },
    {
      "cell_type": "markdown",
      "source": [
        "**Q5. Explain the concept of levels of measurement and give an example of a variable for each level.**"
      ],
      "metadata": {
        "id": "iFoZG5O82bYE"
      }
    },
    {
      "cell_type": "markdown",
      "source": [
        "Levels of measurement, also called scales of measurement, tell you how precisely variables are recorded. In scientific research, a variable is anything that can take on different values across your data set"
      ],
      "metadata": {
        "id": "ac6WJvsC20l3"
      }
    },
    {
      "cell_type": "markdown",
      "source": [
        "1.Nominal data is labelled into mutually exclusive categories within a variable. These categories cannot be ordered in a meaningful way.\n",
        "\n",
        "For example, preferred mode of transportation is a nominal variable, because the data is sorted into categories: car, bus, train, tram, bicycle, etc."
      ],
      "metadata": {
        "id": "n6nyrhlT22C5"
      }
    },
    {
      "cell_type": "markdown",
      "source": [
        "2.Ordinal data is classified into categories within a variable that have a natural rank order. However, the distances between the categories are uneven or unknown."
      ],
      "metadata": {
        "id": "528F3t-S3BSt"
      }
    },
    {
      "cell_type": "markdown",
      "source": [
        "3.Interval level of measurement: This level of measurement is similar to the ordinal level, but the differences between the categories are equal and measurable. There is no true zero point in interval data. Examples of variables at the interval level of measurement include temperature (Fahrenheit or Celsius), IQ scores, and dates (measured in years or days from a certain point)."
      ],
      "metadata": {
        "id": "hX4l2ymh3BHn"
      }
    },
    {
      "cell_type": "markdown",
      "source": [
        "4.Ratio level of measurement: This level of measurement is the most precise and has a true zero point. Ratio variables can be ordered, and the differences between categories are both equal and meaningful. Examples of variables at the ratio level of measurement include height, weight, time, and income."
      ],
      "metadata": {
        "id": "z8iBE5mX3A6B"
      }
    },
    {
      "cell_type": "markdown",
      "source": [
        " **Q6. Why is it important to understand the level of measurement when analyzing data? Provide an\n",
        "example to illustrate your answer.**"
      ],
      "metadata": {
        "id": "rAYVhNpg3Atq"
      }
    },
    {
      "cell_type": "markdown",
      "source": [
        "Understanding the level of measurement is essential when analyzing data because it determines the type of statistical analysis that can be performed and the appropriate measures of central tendency and dispersion that can be used. Different levels of measurement have different properties, which affect the way data can be analyzed and interpreted.\n",
        "\n",
        "For example, if we have data on the favorite color of a group of people, we need to know the level of measurement of the variable to perform appropriate analysis. If the variable is measured on a nominal scale, we can only count the number of people who choose each color and calculate the percentage of people for each color. We cannot compute a mean or variance because nominal data have no natural ordering or hierarchy. On the other hand, if the variable is measured on an ordinal scale, we can rank the colors from most to least popular and compute the median or mode. However, we cannot assume that the intervals between ranks are equal, and we cannot compute a meaningful mean or variance."
      ],
      "metadata": {
        "id": "hGMbi-CQ3eIO"
      }
    },
    {
      "cell_type": "markdown",
      "source": [
        "**Q7. How nominal data type is different from ordinal data type.**"
      ],
      "metadata": {
        "id": "lmGhplFG3eEz"
      }
    },
    {
      "cell_type": "markdown",
      "source": [
        "Nominal and ordinal are two of the four levels of measurement in statistics.\n",
        "\n",
        "Nominal data is a type of categorical data in which data values represent categories that do not have any inherent order or ranking. For example, gender (male, female) or color (red, green, blue) are nominal variables. Nominal data can only be classified and counted.\n",
        "\n",
        "Ordinal data, on the other hand, represents categories that can be ranked in order or have a natural order. However, the distance between categories is not equal. For example, the ranking of the finishing positions in a race (1st, 2nd, 3rd) is an ordinal variable. Other examples of ordinal variables include education level (high school, college, graduate degree) or ratings (poor, fair, good, excellent).\n",
        "\n",
        "The key difference between nominal and ordinal data is that nominal data does not have any inherent order or ranking, whereas ordinal data has a natural order or ranking but no specific numerical value associated with it."
      ],
      "metadata": {
        "id": "Tm-OADXO3eDE"
      }
    },
    {
      "cell_type": "markdown",
      "source": [
        "**Q8. Which type of plot can be used to display data in terms of range?**"
      ],
      "metadata": {
        "id": "JoWtyXGw3eA1"
      }
    },
    {
      "cell_type": "markdown",
      "source": [
        "A box plot, also known as a box-and-whisker plot, is commonly used to display data in terms of range. It shows the distribution of the data by displaying the median, quartiles, and outliers of the dataset. The box represents the interquartile range (IQR), which is the range of the middle 50% of the data, while the whiskers extend to the minimum and maximum values within a certain range. Box plots are useful for comparing distributions between different groups or variables."
      ],
      "metadata": {
        "id": "YC1C1bSa3d-m"
      }
    },
    {
      "cell_type": "markdown",
      "source": [
        " **Q9. Describe the difference between descriptive and inferential statistics. Give an example of each\n",
        "type of statistics and explain how they are used.**"
      ],
      "metadata": {
        "id": "rLE3Hojy3d8I"
      }
    },
    {
      "cell_type": "markdown",
      "source": [
        "Descriptive statistics and inferential statistics are two broad categories of statistical analysis methods used in data analysis.\n",
        "\n",
        "Descriptive statistics is the branch of statistics that deals with the summary and description of the characteristics of a set of data. It includes measures like mean, median, mode, standard deviation, range, and percentiles, which are used to describe and summarize data in a way that is easily understandable. For example, if we want to understand the average income of a particular community, we can calculate the mean income of that community using descriptive statistics.\n",
        "\n",
        "In contrast, inferential statistics is the branch of statistics that deals with making generalizations and predictions about a population based on a sample. It involves using sample data to make inferences or draw conclusions about a larger population. For example, if we want to know whether the average income of a particular community is significantly different from the average income of the entire population, we can use inferential statistics to conduct hypothesis testing and make conclusions about the population based on the sample data.\n",
        "\n",
        "To illustrate the difference between descriptive and inferential statistics, consider the following example. Suppose we want to study the average height of students in a school. Descriptive statistics can be used to calculate the mean, median, and range of the heights of the students in the school. On the other hand, inferential statistics can be used to make generalizations about the height of all students in the school, based on a sample of students. For instance, we can randomly select a sample of 100 students, calculate their average height, and use inferential statistics to make predictions about the average height of all students in the school."
      ],
      "metadata": {
        "id": "G9cjfO_O3d5l"
      }
    },
    {
      "cell_type": "markdown",
      "source": [
        " **Q10. What are some common measures of central tendency and variability used in statistics? Explain\n",
        "how each measure can be used to describe a dataset.**"
      ],
      "metadata": {
        "id": "skAubxvL3d3A"
      }
    },
    {
      "cell_type": "markdown",
      "source": [
        "Measures of central tendency and variability are commonly used in statistics to describe a dataset.\n",
        "\n",
        "Measures of central tendency:\n",
        "\n",
        "Mean: The mean is the sum of all the values in a dataset divided by the number of values in the dataset. It is often used to describe the average value of a dataset. For example, the mean salary of employees in a company can be used to describe the average salary of all employees.\n",
        "\n",
        "Median: The median is the middle value of a dataset when it is ordered from smallest to largest. It is often used to describe the central value of a dataset when there are outliers or when the distribution is not symmetrical. For example, the median income of a neighborhood can be used to describe the central income of the residents.\n",
        "\n",
        "Mode: The mode is the value that appears most frequently in a dataset. It is often used to describe the most common value of a dataset. For example, the mode of transportation used by commuters in a city can be used to describe the most common method of transportation.\n",
        "\n",
        "Measures of variability:\n",
        "\n",
        "Range: The range is the difference between the largest and smallest values in a dataset. It is often used to describe the spread of the data. For example, the range of ages of students in a classroom can be used to describe how spread out the ages are.\n",
        "\n",
        "Variance: The variance is the average of the squared differences from the mean. It is often used to describe how spread out the data is from the mean. For example, the variance of test scores in a class can be used to describe how spread out the scores are from the average score.\n",
        "\n",
        "Standard deviation: The standard deviation is the square root of the variance. It is often used to describe how spread out the data is from the mean in the same units as the data. For example, the standard deviation of the heights of students in a class can be used to describe how spread out the heights are from the average height, in units of centimeters.\n",
        "\n",
        "These measures of central tendency and variability can be used together to provide a more complete description of a dataset."
      ],
      "metadata": {
        "id": "LJcpxsvM4LnA"
      }
    },
    {
      "cell_type": "code",
      "execution_count": null,
      "metadata": {
        "id": "7P57yNtMve68"
      },
      "outputs": [],
      "source": []
    }
  ]
}